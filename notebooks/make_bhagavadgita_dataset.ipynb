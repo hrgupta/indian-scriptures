{
 "cells": [
  {
   "cell_type": "code",
   "execution_count": 1,
   "metadata": {},
   "outputs": [],
   "source": [
    "import numpy as np\n",
    "import pandas as pd"
   ]
  },
  {
   "cell_type": "code",
   "execution_count": 2,
   "metadata": {},
   "outputs": [],
   "source": [
    "data = pd.read_csv(\"../data/raw/gitas/bhagavadgita.csv\")"
   ]
  },
  {
   "cell_type": "code",
   "execution_count": 3,
   "metadata": {},
   "outputs": [
    {
     "output_type": "execute_result",
     "data": {
      "text/plain": "array(['श्रीमद् भगवद्गीता '], dtype=object)"
     },
     "metadata": {},
     "execution_count": 3
    }
   ],
   "source": [
    "data.title.unique()"
   ]
  },
  {
   "cell_type": "code",
   "execution_count": 4,
   "metadata": {},
   "outputs": [],
   "source": [
    "dataset = [data[data['title']==name] for name in data.title.unique()]"
   ]
  },
  {
   "cell_type": "code",
   "execution_count": 5,
   "metadata": {},
   "outputs": [],
   "source": [
    "dataset = [pd.DataFrame(data) for data in dataset]"
   ]
  },
  {
   "cell_type": "code",
   "execution_count": 6,
   "metadata": {},
   "outputs": [],
   "source": [
    "for data in dataset:\n",
    "    data['number'] = data['mantra'].str.extract(r'(?s:.*)(।।.*।।)')\n",
    "    #data['number'] = data['mantra'].str.extract(r'(।।.*?।।)')\n",
    "    data.reset_index(drop=True)"
   ]
  },
  {
   "cell_type": "code",
   "execution_count": 7,
   "metadata": {},
   "outputs": [],
   "source": [
    "for data in dataset:\n",
    "    data.to_csv('../data/processed/gitas/bhagavadgita.csv', encoding='utf-8', index=False)"
   ]
  },
  {
   "cell_type": "code",
   "execution_count": 8,
   "metadata": {},
   "outputs": [
    {
     "output_type": "execute_result",
     "data": {
      "text/plain": "                  title                                             mantra  \\\n0    श्रीमद् भगवद्गीता   धृतराष्ट्र उवाच,धर्मक्षेत्रे कुरुक्षेत्रे समवे...   \n1    श्रीमद् भगवद्गीता   सञ्जय उवाच,दृष्ट्वा तु पाण्डवानीकं व्यूढं दुर्...   \n2    श्रीमद् भगवद्गीता   पश्यैतां पाण्डुपुत्राणामाचार्य महतीं चमूम्।,व्...   \n3    श्रीमद् भगवद्गीता   अत्र शूरा महेष्वासा भीमार्जुनसमा युधि।,युयुधान...   \n4    श्रीमद् भगवद्गीता   धृष्टकेतुश्चेकितानः काशिराजश्च वीर्यवान्।,पुरु...   \n..                  ...                                                ...   \n697  श्रीमद् भगवद्गीता   व्यासप्रसादाच्छ्रुतवानेतद्गुह्यमहं परम्।,योगं ...   \n698  श्रीमद् भगवद्गीता   राजन्संस्मृत्य संस्मृत्य संवादमिममद्भुतम्।,केश...   \n699  श्रीमद् भगवद्गीता   तच्च संस्मृत्य संस्मृत्य रूपमत्यद्भुतं हरेः।,व...   \n700  श्रीमद् भगवद्गीता   यत्र योगेश्वरः कृष्णो यत्र पार्थो धनुर्धरः।,तत...   \n701  श्रीमद् भगवद्गीता   धृतराष्ट्र उवाच,धर्मक्षेत्रे कुरुक्षेत्रे समवे...   \n\n        number  \n0      ।।1.1।।  \n1      ।।1.2।।  \n2      ।।1.3।।  \n3      ।।1.4।।  \n4      ।।1.5।।  \n..         ...  \n697  ।।18.75।।  \n698  ।।18.76।।  \n699  ।।18.77।।  \n700        NaN  \n701    ।।1.1।।  \n\n[702 rows x 3 columns]",
      "text/html": "<div>\n<style scoped>\n    .dataframe tbody tr th:only-of-type {\n        vertical-align: middle;\n    }\n\n    .dataframe tbody tr th {\n        vertical-align: top;\n    }\n\n    .dataframe thead th {\n        text-align: right;\n    }\n</style>\n<table border=\"1\" class=\"dataframe\">\n  <thead>\n    <tr style=\"text-align: right;\">\n      <th></th>\n      <th>title</th>\n      <th>mantra</th>\n      <th>number</th>\n    </tr>\n  </thead>\n  <tbody>\n    <tr>\n      <th>0</th>\n      <td>श्रीमद् भगवद्गीता</td>\n      <td>धृतराष्ट्र उवाच,धर्मक्षेत्रे कुरुक्षेत्रे समवे...</td>\n      <td>।।1.1।।</td>\n    </tr>\n    <tr>\n      <th>1</th>\n      <td>श्रीमद् भगवद्गीता</td>\n      <td>सञ्जय उवाच,दृष्ट्वा तु पाण्डवानीकं व्यूढं दुर्...</td>\n      <td>।।1.2।।</td>\n    </tr>\n    <tr>\n      <th>2</th>\n      <td>श्रीमद् भगवद्गीता</td>\n      <td>पश्यैतां पाण्डुपुत्राणामाचार्य महतीं चमूम्।,व्...</td>\n      <td>।।1.3।।</td>\n    </tr>\n    <tr>\n      <th>3</th>\n      <td>श्रीमद् भगवद्गीता</td>\n      <td>अत्र शूरा महेष्वासा भीमार्जुनसमा युधि।,युयुधान...</td>\n      <td>।।1.4।।</td>\n    </tr>\n    <tr>\n      <th>4</th>\n      <td>श्रीमद् भगवद्गीता</td>\n      <td>धृष्टकेतुश्चेकितानः काशिराजश्च वीर्यवान्।,पुरु...</td>\n      <td>।।1.5।।</td>\n    </tr>\n    <tr>\n      <th>...</th>\n      <td>...</td>\n      <td>...</td>\n      <td>...</td>\n    </tr>\n    <tr>\n      <th>697</th>\n      <td>श्रीमद् भगवद्गीता</td>\n      <td>व्यासप्रसादाच्छ्रुतवानेतद्गुह्यमहं परम्।,योगं ...</td>\n      <td>।।18.75।।</td>\n    </tr>\n    <tr>\n      <th>698</th>\n      <td>श्रीमद् भगवद्गीता</td>\n      <td>राजन्संस्मृत्य संस्मृत्य संवादमिममद्भुतम्।,केश...</td>\n      <td>।।18.76।।</td>\n    </tr>\n    <tr>\n      <th>699</th>\n      <td>श्रीमद् भगवद्गीता</td>\n      <td>तच्च संस्मृत्य संस्मृत्य रूपमत्यद्भुतं हरेः।,व...</td>\n      <td>।।18.77।।</td>\n    </tr>\n    <tr>\n      <th>700</th>\n      <td>श्रीमद् भगवद्गीता</td>\n      <td>यत्र योगेश्वरः कृष्णो यत्र पार्थो धनुर्धरः।,तत...</td>\n      <td>NaN</td>\n    </tr>\n    <tr>\n      <th>701</th>\n      <td>श्रीमद् भगवद्गीता</td>\n      <td>धृतराष्ट्र उवाच,धर्मक्षेत्रे कुरुक्षेत्रे समवे...</td>\n      <td>।।1.1।।</td>\n    </tr>\n  </tbody>\n</table>\n<p>702 rows × 3 columns</p>\n</div>"
     },
     "metadata": {},
     "execution_count": 8
    }
   ],
   "source": [
    "dataset[0]"
   ]
  },
  {
   "cell_type": "code",
   "execution_count": null,
   "metadata": {},
   "outputs": [],
   "source": []
  }
 ],
 "metadata": {
  "kernelspec": {
   "display_name": "Python 3.7.5 64-bit ('webscraping': virtualenv)",
   "language": "python",
   "name": "python37564bitwebscrapingvirtualenvbd5f766b9aaa4374a82e4e6f43b7b828"
  },
  "language_info": {
   "codemirror_mode": {
    "name": "ipython",
    "version": 3
   },
   "file_extension": ".py",
   "mimetype": "text/x-python",
   "name": "python",
   "nbconvert_exporter": "python",
   "pygments_lexer": "ipython3",
   "version": "3.7.5-final"
  }
 },
 "nbformat": 4,
 "nbformat_minor": 4
}