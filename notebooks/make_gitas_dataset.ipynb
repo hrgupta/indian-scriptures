{
 "cells": [
  {
   "cell_type": "code",
   "execution_count": 1,
   "metadata": {},
   "outputs": [],
   "source": [
    "import numpy as np\n",
    "import pandas as pd"
   ]
  },
  {
   "cell_type": "code",
   "execution_count": 2,
   "metadata": {},
   "outputs": [],
   "source": [
    "data = pd.read_csv(\"../data/raw/gitas/gitas.csv\")"
   ]
  },
  {
   "cell_type": "code",
   "execution_count": 3,
   "metadata": {},
   "outputs": [
    {
     "output_type": "execute_result",
     "data": {
      "text/plain": "array(['SRIRAM GITA', 'KAPILA GITA', 'SRUTI GITA', 'UDDHAVA GITA',\n       'ASHTAVAKRA GITA', 'AVADHUTA GITA', 'VIBHISHANA GITA'],\n      dtype=object)"
     },
     "metadata": {},
     "execution_count": 3
    }
   ],
   "source": [
    "data.title.unique()"
   ]
  },
  {
   "cell_type": "code",
   "execution_count": 4,
   "metadata": {},
   "outputs": [],
   "source": [
    "dataset = [data[data['title']==name] for name in data.title.unique()]"
   ]
  },
  {
   "cell_type": "code",
   "execution_count": 5,
   "metadata": {},
   "outputs": [],
   "source": [
    "dataset = [pd.DataFrame(data) for data in dataset]"
   ]
  },
  {
   "cell_type": "code",
   "execution_count": 6,
   "metadata": {},
   "outputs": [],
   "source": [
    "for data in dataset:\n",
    "    data['number'] = data['mantra'].str.extract(r'(?s:.*)(।।.*।।)')\n",
    "    #data['number'] = data['mantra'].str.extract(r'(।।.*?।।)')\n",
    "    data.reset_index(drop=True)"
   ]
  },
  {
   "cell_type": "code",
   "execution_count": 7,
   "metadata": {},
   "outputs": [],
   "source": [
    "for data in dataset:\n",
    "    s = data.iloc[1][0]\n",
    "    s = s.strip().replace(' ','_').lower()\n",
    "    data.to_csv('../data/processed/gitas/'+s+'.csv', encoding='utf-8', index=False)"
   ]
  },
  {
   "cell_type": "code",
   "execution_count": 8,
   "metadata": {},
   "outputs": [
    {
     "output_type": "execute_result",
     "data": {
      "text/plain": "           title                                             mantra  \\\n0    SRIRAM GITA  श्रीमहादेव उवाच,ततो जगन्मङ्गलमङ्गलात्मना,   वि...   \n1    SRIRAM GITA  सौमित्रिणा पृष्ट उदारबुद्धिना,   रामः कथाः प्र...   \n8    SRIRAM GITA  कदाचिदेकान्त उपस्थितं प्रभुं,   रामं रमालालितप...   \n14   SRIRAM GITA  त्वं शुद्धबोधोऽसि हि सर्वदेहिना,   मात्मास्यधी...   \n21   SRIRAM GITA  अहं प्रपन्नोऽस्मि पदाम्बुजं प्रभो,   भवापवर्गं...   \n..           ...                                                ...   \n293  SRIRAM GITA  यावन्न पश्येदखिलं मदात्मकं,   तावन्मदाराधनतत्प...   \n296  SRIRAM GITA  रहस्यमेतच्छ्रुतिसारसङ्ग्रहं,   मया विनिश्चित्य...   \n299  SRIRAM GITA  भ्रातर्यदीदं परिदृश्यते जग,   न्मायैव सर्वं पर...   \n302  SRIRAM GITA  यः सेवते मामगुणं गुणात्परं,   हृदा कदा वा यदि ...   \n306  SRIRAM GITA  विज्ञानमेतदखिलं श्रुतिसारमेकं,   वेदान्तवेद्यच...   \n\n                                                number  \n0                                                ।।1।।  \n1                                                ।।2।।  \n8                                                ।।3।।  \n14                                               ।।4।।  \n21                                               ।।5।।  \n..                                                 ...  \n293                                             ।।58।।  \n296                                             ।।59।।  \n299                                             ।।60।।  \n302                                             ।।61।।  \n306  ।।इति श्रीमदध्यात्मरामायणे उमामहेश्वरसंवादे,उत...  \n\n[62 rows x 3 columns]",
      "text/html": "<div>\n<style scoped>\n    .dataframe tbody tr th:only-of-type {\n        vertical-align: middle;\n    }\n\n    .dataframe tbody tr th {\n        vertical-align: top;\n    }\n\n    .dataframe thead th {\n        text-align: right;\n    }\n</style>\n<table border=\"1\" class=\"dataframe\">\n  <thead>\n    <tr style=\"text-align: right;\">\n      <th></th>\n      <th>title</th>\n      <th>mantra</th>\n      <th>number</th>\n    </tr>\n  </thead>\n  <tbody>\n    <tr>\n      <th>0</th>\n      <td>SRIRAM GITA</td>\n      <td>श्रीमहादेव उवाच,ततो जगन्मङ्गलमङ्गलात्मना,   वि...</td>\n      <td>।।1।।</td>\n    </tr>\n    <tr>\n      <th>1</th>\n      <td>SRIRAM GITA</td>\n      <td>सौमित्रिणा पृष्ट उदारबुद्धिना,   रामः कथाः प्र...</td>\n      <td>।।2।।</td>\n    </tr>\n    <tr>\n      <th>8</th>\n      <td>SRIRAM GITA</td>\n      <td>कदाचिदेकान्त उपस्थितं प्रभुं,   रामं रमालालितप...</td>\n      <td>।।3।।</td>\n    </tr>\n    <tr>\n      <th>14</th>\n      <td>SRIRAM GITA</td>\n      <td>त्वं शुद्धबोधोऽसि हि सर्वदेहिना,   मात्मास्यधी...</td>\n      <td>।।4।।</td>\n    </tr>\n    <tr>\n      <th>21</th>\n      <td>SRIRAM GITA</td>\n      <td>अहं प्रपन्नोऽस्मि पदाम्बुजं प्रभो,   भवापवर्गं...</td>\n      <td>।।5।।</td>\n    </tr>\n    <tr>\n      <th>...</th>\n      <td>...</td>\n      <td>...</td>\n      <td>...</td>\n    </tr>\n    <tr>\n      <th>293</th>\n      <td>SRIRAM GITA</td>\n      <td>यावन्न पश्येदखिलं मदात्मकं,   तावन्मदाराधनतत्प...</td>\n      <td>।।58।।</td>\n    </tr>\n    <tr>\n      <th>296</th>\n      <td>SRIRAM GITA</td>\n      <td>रहस्यमेतच्छ्रुतिसारसङ्ग्रहं,   मया विनिश्चित्य...</td>\n      <td>।।59।।</td>\n    </tr>\n    <tr>\n      <th>299</th>\n      <td>SRIRAM GITA</td>\n      <td>भ्रातर्यदीदं परिदृश्यते जग,   न्मायैव सर्वं पर...</td>\n      <td>।।60।।</td>\n    </tr>\n    <tr>\n      <th>302</th>\n      <td>SRIRAM GITA</td>\n      <td>यः सेवते मामगुणं गुणात्परं,   हृदा कदा वा यदि ...</td>\n      <td>।।61।।</td>\n    </tr>\n    <tr>\n      <th>306</th>\n      <td>SRIRAM GITA</td>\n      <td>विज्ञानमेतदखिलं श्रुतिसारमेकं,   वेदान्तवेद्यच...</td>\n      <td>।।इति श्रीमदध्यात्मरामायणे उमामहेश्वरसंवादे,उत...</td>\n    </tr>\n  </tbody>\n</table>\n<p>62 rows × 3 columns</p>\n</div>"
     },
     "metadata": {},
     "execution_count": 8
    }
   ],
   "source": [
    "dataset[0]"
   ]
  },
  {
   "cell_type": "code",
   "execution_count": null,
   "metadata": {},
   "outputs": [],
   "source": []
  }
 ],
 "metadata": {
  "kernelspec": {
   "display_name": "Python 3.7.5 64-bit ('webscraping': virtualenv)",
   "language": "python",
   "name": "python37564bitwebscrapingvirtualenvbd5f766b9aaa4374a82e4e6f43b7b828"
  },
  "language_info": {
   "codemirror_mode": {
    "name": "ipython",
    "version": 3
   },
   "file_extension": ".py",
   "mimetype": "text/x-python",
   "name": "python",
   "nbconvert_exporter": "python",
   "pygments_lexer": "ipython3",
   "version": "3.7.5-final"
  }
 },
 "nbformat": 4,
 "nbformat_minor": 4
}