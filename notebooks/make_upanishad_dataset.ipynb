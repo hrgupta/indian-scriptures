{
 "cells": [
  {
   "cell_type": "code",
   "execution_count": 1,
   "metadata": {},
   "outputs": [],
   "source": [
    "import numpy as np\n",
    "import pandas as pd"
   ]
  },
  {
   "cell_type": "code",
   "execution_count": 2,
   "metadata": {},
   "outputs": [],
   "source": [
    "data = pd.read_csv(\"../data/raw/upanishads/upanishads.csv\")"
   ]
  },
  {
   "cell_type": "code",
   "execution_count": 3,
   "metadata": {},
   "outputs": [
    {
     "output_type": "execute_result",
     "data": {
      "text/plain": "array(['Aitereya Upanishad', 'Isavasya Upanishad', 'Mandukya Upanishad',\n       'Mundaka Upanishad', 'Kena Upanishad', 'Prasna Upanishad',\n       'Katha Upanishad', 'Svetashvatra Upanishad', 'Karika Upanishad',\n       'Brihadaranyaka Upanishad', 'Taittiriya Upanishad'], dtype=object)"
     },
     "metadata": {},
     "execution_count": 3
    }
   ],
   "source": [
    "data.title.unique()"
   ]
  },
  {
   "cell_type": "code",
   "execution_count": 4,
   "metadata": {},
   "outputs": [],
   "source": [
    "dataset = [data[data['title']==name] for name in data.title.unique()]"
   ]
  },
  {
   "cell_type": "code",
   "execution_count": 5,
   "metadata": {},
   "outputs": [],
   "source": [
    "dataset = [pd.DataFrame(data) for data in dataset]"
   ]
  },
  {
   "cell_type": "code",
   "execution_count": 6,
   "metadata": {},
   "outputs": [],
   "source": [
    "for data in dataset:\n",
    "    data['number'] = data['mantra'].str.extract(r'(?s:.*)(।।.*।।)')\n",
    "    #data['number'] = data['mantra'].str.extract(r'(।।.*?।।)')\n",
    "    data.reset_index(drop=True)"
   ]
  },
  {
   "cell_type": "code",
   "execution_count": 7,
   "metadata": {},
   "outputs": [],
   "source": [
    "for data in dataset:\n",
    "    s = data.iloc[1][0]\n",
    "    s = s.strip().replace(' ','_').lower()\n",
    "    data.to_csv('../data/processed/upanishads/'+s+'.csv', encoding='utf-8', index=False)"
   ]
  },
  {
   "cell_type": "code",
   "execution_count": 8,
   "metadata": {},
   "outputs": [
    {
     "output_type": "execute_result",
     "data": {
      "text/plain": "                  title                                             mantra  \\\n0    Aitereya Upanishad  आत्मा वा इदमेक एवाग्र आसीत्। नान्यत् किंचन मिष...   \n11   Aitereya Upanishad  स इमाँल्लोकानसृजत। अम्भो मरीचीर्मरमापोऽदोऽम्भः...   \n22   Aitereya Upanishad  स ईक्षतेमे नु लोकाः लोकपालान्नु सृजा इति। सोऽद...   \n33   Aitereya Upanishad  तमभ्यतपत्तस्याभितप्तस्य मुखं निरभिद्यत यथाऽण्ड...   \n43   Aitereya Upanishad  ता एता देवताः सृष्टा अस्मिन्महत्यर्णवे प्रापतं...   \n53   Aitereya Upanishad  ताभ्यो गामानयत्ता अब्रुवन्न वै नोऽयमलमिति। ताभ...   \n64   Aitereya Upanishad  ताभ्यः पुरूषमानयत्ता अब्रुवन् सुकृतं बतेति पुर...   \n73   Aitereya Upanishad  अग्निर्वाग्भूत्वा मुखं प्राविशद्वायुः प्राणो भ...   \n84   Aitereya Upanishad  तमशनायापिपासे अब्रूतामावाभ्यामभिप्रजानीहीति। त...   \n95   Aitereya Upanishad  स ईक्षतेमे नु लोकाश्च लोकपालाश्चान्नमेभ्यः सृज...   \n106  Aitereya Upanishad  सोऽपोऽभ्यतपत्ताभ्योऽभितप्ताभ्यो मूर्तिरजायत। य...   \n116  Aitereya Upanishad  तदेनत्सृष्टं पराङ्त्यजिघांसत्तद्वाचाऽजिघृक्षत्...   \n127  Aitereya Upanishad  तत्प्राणेनाजिघृक्षत् तन्नाशक्नोत्प्राणेन ग्रही...   \n137  Aitereya Upanishad  तच्चक्षुषाऽजिघृक्षत् तन्नाशक्नोच्चक्षुषा ग्रही...   \n147  Aitereya Upanishad  तच्छ्रोत्रेणाजिघृक्षत् तन्नाशक्नोच्छ्रोत्रेण ग...   \n157  Aitereya Upanishad  तत्त्वचाऽजिघृक्षत् तन्नाशक्नोत्त्वचा ग्रहीतुम्...   \n167  Aitereya Upanishad  तन्मनसाऽजिघृक्षत् तन्नाशक्नोन्मनसा ग्रहीतुम्। ...   \n177  Aitereya Upanishad  तच्छिश्नेनाजिघृक्षत् तन्नाशक्नोच्छिश्नेन ग्रही...   \n188  Aitereya Upanishad  तदपानेनाजिघृक्षत्। तदावयत्। सैषोऽन्नस्य ग्रहो ...   \n196  Aitereya Upanishad  स ईक्षत कथं न्विदं मदृते स्यादिति स ईक्षत कतरे...   \n206  Aitereya Upanishad  स एतमेव सीमानं विदार्यैतया द्वारा प्रापद्यत। स...   \n215  Aitereya Upanishad  स जातो भूतान्यभिव्यैख्यत् किमिहान्यं वावदिषदित...   \n223  Aitereya Upanishad  तस्मादिदन्द्रो नामेदन्द्रो ह वै नाम। तमिदन्द्र...   \n231  Aitereya Upanishad   पुरूषे ह वा अयमादितो गर्भो भवति। यदेतद्रेतस्त...   \n239  Aitereya Upanishad  तत्स्त्रिया आत्मभूयं गच्छति यथा स्वमङ्गं तथा। ...   \n247  Aitereya Upanishad  सा भावयित्री भावयितव्या भवति तं स्त्री गर्भं ब...   \n255  Aitereya Upanishad  सोऽस्यायमात्मा पुण्येभ्यः कर्मभ्यः प्रतिधीयते।...   \n263  Aitereya Upanishad  तदुक्तमृषिणा। गर्भे नु सन्नन्वेषामवेदमहं देवान...   \n271  Aitereya Upanishad  स एवं विद्वानस्माच्छरीरभेदादूर्ध्व उत्क्रम्याम...   \n280  Aitereya Upanishad  कोऽयमात्मेति वयमुपास्महे कतरः स आत्मा । येन वा...   \n290  Aitereya Upanishad  यदेतत् हृदयं मनश्चैतत्। संज्ञानमाज्ञानं विज्ञा...   \n298  Aitereya Upanishad  एष ब्रह्मैष इन्द्र एष प्रजापतिरेते सर्वे देवा ...   \n306  Aitereya Upanishad  स एतेन प्रज्ञेनात्मनास्माल्लोकादुत्क्रम्यामुष्...   \n\n         number  \n0     ।।1.1.1।।  \n11    ।।1.1.2।।  \n22    ।।1.1.3।।  \n33    ।।1.1.4।।  \n43    ।।1.2.1।।  \n53    ।।1.2.2।।  \n64    ।।1.2.3।।  \n73    ।।1.2.4।।  \n84    ।।1.2.5।।  \n95    ।।1.3.1।।  \n106   ।।1.3.2।।  \n116   ।।1.3.3।।  \n127   ।।1.3.4।।  \n137   ।।1.3.5।।  \n147   ।।1.3.6।।  \n157   ।।1.3.7।।  \n167   ।।1.3.8।।  \n177   ।।1.3.9।।  \n188  ।।1.3.10।।  \n196  ।।1.3.11।।  \n206  ।।1.3.12।।  \n215  ।।1.3.13।।  \n223  ।।1.3.14।।  \n231   ।।1.4.1।।  \n239   ।।1.4.2।।  \n247   ।।1.4.3।।  \n255   ।।1.4.4।।  \n263   ।।1.4.5।।  \n271   ।।1.4.6।।  \n280   ।।1.5.1।।  \n290   ।।1.5.2।।  \n298   ।।1.5.3।।  \n306   ।।1.5.4।।  ",
      "text/html": "<div>\n<style scoped>\n    .dataframe tbody tr th:only-of-type {\n        vertical-align: middle;\n    }\n\n    .dataframe tbody tr th {\n        vertical-align: top;\n    }\n\n    .dataframe thead th {\n        text-align: right;\n    }\n</style>\n<table border=\"1\" class=\"dataframe\">\n  <thead>\n    <tr style=\"text-align: right;\">\n      <th></th>\n      <th>title</th>\n      <th>mantra</th>\n      <th>number</th>\n    </tr>\n  </thead>\n  <tbody>\n    <tr>\n      <th>0</th>\n      <td>Aitereya Upanishad</td>\n      <td>आत्मा वा इदमेक एवाग्र आसीत्। नान्यत् किंचन मिष...</td>\n      <td>।।1.1.1।।</td>\n    </tr>\n    <tr>\n      <th>11</th>\n      <td>Aitereya Upanishad</td>\n      <td>स इमाँल्लोकानसृजत। अम्भो मरीचीर्मरमापोऽदोऽम्भः...</td>\n      <td>।।1.1.2।।</td>\n    </tr>\n    <tr>\n      <th>22</th>\n      <td>Aitereya Upanishad</td>\n      <td>स ईक्षतेमे नु लोकाः लोकपालान्नु सृजा इति। सोऽद...</td>\n      <td>।।1.1.3।।</td>\n    </tr>\n    <tr>\n      <th>33</th>\n      <td>Aitereya Upanishad</td>\n      <td>तमभ्यतपत्तस्याभितप्तस्य मुखं निरभिद्यत यथाऽण्ड...</td>\n      <td>।।1.1.4।।</td>\n    </tr>\n    <tr>\n      <th>43</th>\n      <td>Aitereya Upanishad</td>\n      <td>ता एता देवताः सृष्टा अस्मिन्महत्यर्णवे प्रापतं...</td>\n      <td>।।1.2.1।।</td>\n    </tr>\n    <tr>\n      <th>53</th>\n      <td>Aitereya Upanishad</td>\n      <td>ताभ्यो गामानयत्ता अब्रुवन्न वै नोऽयमलमिति। ताभ...</td>\n      <td>।।1.2.2।।</td>\n    </tr>\n    <tr>\n      <th>64</th>\n      <td>Aitereya Upanishad</td>\n      <td>ताभ्यः पुरूषमानयत्ता अब्रुवन् सुकृतं बतेति पुर...</td>\n      <td>।।1.2.3।।</td>\n    </tr>\n    <tr>\n      <th>73</th>\n      <td>Aitereya Upanishad</td>\n      <td>अग्निर्वाग्भूत्वा मुखं प्राविशद्वायुः प्राणो भ...</td>\n      <td>।।1.2.4।।</td>\n    </tr>\n    <tr>\n      <th>84</th>\n      <td>Aitereya Upanishad</td>\n      <td>तमशनायापिपासे अब्रूतामावाभ्यामभिप्रजानीहीति। त...</td>\n      <td>।।1.2.5।।</td>\n    </tr>\n    <tr>\n      <th>95</th>\n      <td>Aitereya Upanishad</td>\n      <td>स ईक्षतेमे नु लोकाश्च लोकपालाश्चान्नमेभ्यः सृज...</td>\n      <td>।।1.3.1।।</td>\n    </tr>\n    <tr>\n      <th>106</th>\n      <td>Aitereya Upanishad</td>\n      <td>सोऽपोऽभ्यतपत्ताभ्योऽभितप्ताभ्यो मूर्तिरजायत। य...</td>\n      <td>।।1.3.2।।</td>\n    </tr>\n    <tr>\n      <th>116</th>\n      <td>Aitereya Upanishad</td>\n      <td>तदेनत्सृष्टं पराङ्त्यजिघांसत्तद्वाचाऽजिघृक्षत्...</td>\n      <td>।।1.3.3।।</td>\n    </tr>\n    <tr>\n      <th>127</th>\n      <td>Aitereya Upanishad</td>\n      <td>तत्प्राणेनाजिघृक्षत् तन्नाशक्नोत्प्राणेन ग्रही...</td>\n      <td>।।1.3.4।।</td>\n    </tr>\n    <tr>\n      <th>137</th>\n      <td>Aitereya Upanishad</td>\n      <td>तच्चक्षुषाऽजिघृक्षत् तन्नाशक्नोच्चक्षुषा ग्रही...</td>\n      <td>।।1.3.5।।</td>\n    </tr>\n    <tr>\n      <th>147</th>\n      <td>Aitereya Upanishad</td>\n      <td>तच्छ्रोत्रेणाजिघृक्षत् तन्नाशक्नोच्छ्रोत्रेण ग...</td>\n      <td>।।1.3.6।।</td>\n    </tr>\n    <tr>\n      <th>157</th>\n      <td>Aitereya Upanishad</td>\n      <td>तत्त्वचाऽजिघृक्षत् तन्नाशक्नोत्त्वचा ग्रहीतुम्...</td>\n      <td>।।1.3.7।।</td>\n    </tr>\n    <tr>\n      <th>167</th>\n      <td>Aitereya Upanishad</td>\n      <td>तन्मनसाऽजिघृक्षत् तन्नाशक्नोन्मनसा ग्रहीतुम्। ...</td>\n      <td>।।1.3.8।।</td>\n    </tr>\n    <tr>\n      <th>177</th>\n      <td>Aitereya Upanishad</td>\n      <td>तच्छिश्नेनाजिघृक्षत् तन्नाशक्नोच्छिश्नेन ग्रही...</td>\n      <td>।।1.3.9।।</td>\n    </tr>\n    <tr>\n      <th>188</th>\n      <td>Aitereya Upanishad</td>\n      <td>तदपानेनाजिघृक्षत्। तदावयत्। सैषोऽन्नस्य ग्रहो ...</td>\n      <td>।।1.3.10।।</td>\n    </tr>\n    <tr>\n      <th>196</th>\n      <td>Aitereya Upanishad</td>\n      <td>स ईक्षत कथं न्विदं मदृते स्यादिति स ईक्षत कतरे...</td>\n      <td>।।1.3.11।।</td>\n    </tr>\n    <tr>\n      <th>206</th>\n      <td>Aitereya Upanishad</td>\n      <td>स एतमेव सीमानं विदार्यैतया द्वारा प्रापद्यत। स...</td>\n      <td>।।1.3.12।।</td>\n    </tr>\n    <tr>\n      <th>215</th>\n      <td>Aitereya Upanishad</td>\n      <td>स जातो भूतान्यभिव्यैख्यत् किमिहान्यं वावदिषदित...</td>\n      <td>।।1.3.13।।</td>\n    </tr>\n    <tr>\n      <th>223</th>\n      <td>Aitereya Upanishad</td>\n      <td>तस्मादिदन्द्रो नामेदन्द्रो ह वै नाम। तमिदन्द्र...</td>\n      <td>।।1.3.14।।</td>\n    </tr>\n    <tr>\n      <th>231</th>\n      <td>Aitereya Upanishad</td>\n      <td>पुरूषे ह वा अयमादितो गर्भो भवति। यदेतद्रेतस्त...</td>\n      <td>।।1.4.1।।</td>\n    </tr>\n    <tr>\n      <th>239</th>\n      <td>Aitereya Upanishad</td>\n      <td>तत्स्त्रिया आत्मभूयं गच्छति यथा स्वमङ्गं तथा। ...</td>\n      <td>।।1.4.2।।</td>\n    </tr>\n    <tr>\n      <th>247</th>\n      <td>Aitereya Upanishad</td>\n      <td>सा भावयित्री भावयितव्या भवति तं स्त्री गर्भं ब...</td>\n      <td>।।1.4.3।।</td>\n    </tr>\n    <tr>\n      <th>255</th>\n      <td>Aitereya Upanishad</td>\n      <td>सोऽस्यायमात्मा पुण्येभ्यः कर्मभ्यः प्रतिधीयते।...</td>\n      <td>।।1.4.4।।</td>\n    </tr>\n    <tr>\n      <th>263</th>\n      <td>Aitereya Upanishad</td>\n      <td>तदुक्तमृषिणा। गर्भे नु सन्नन्वेषामवेदमहं देवान...</td>\n      <td>।।1.4.5।।</td>\n    </tr>\n    <tr>\n      <th>271</th>\n      <td>Aitereya Upanishad</td>\n      <td>स एवं विद्वानस्माच्छरीरभेदादूर्ध्व उत्क्रम्याम...</td>\n      <td>।।1.4.6।।</td>\n    </tr>\n    <tr>\n      <th>280</th>\n      <td>Aitereya Upanishad</td>\n      <td>कोऽयमात्मेति वयमुपास्महे कतरः स आत्मा । येन वा...</td>\n      <td>।।1.5.1।।</td>\n    </tr>\n    <tr>\n      <th>290</th>\n      <td>Aitereya Upanishad</td>\n      <td>यदेतत् हृदयं मनश्चैतत्। संज्ञानमाज्ञानं विज्ञा...</td>\n      <td>।।1.5.2।।</td>\n    </tr>\n    <tr>\n      <th>298</th>\n      <td>Aitereya Upanishad</td>\n      <td>एष ब्रह्मैष इन्द्र एष प्रजापतिरेते सर्वे देवा ...</td>\n      <td>।।1.5.3।।</td>\n    </tr>\n    <tr>\n      <th>306</th>\n      <td>Aitereya Upanishad</td>\n      <td>स एतेन प्रज्ञेनात्मनास्माल्लोकादुत्क्रम्यामुष्...</td>\n      <td>।।1.5.4।।</td>\n    </tr>\n  </tbody>\n</table>\n</div>"
     },
     "metadata": {},
     "execution_count": 8
    }
   ],
   "source": [
    "dataset[0]"
   ]
  },
  {
   "cell_type": "code",
   "execution_count": null,
   "metadata": {},
   "outputs": [],
   "source": []
  }
 ],
 "metadata": {
  "kernelspec": {
   "display_name": "Python 3.7.5 64-bit ('webscraping': virtualenv)",
   "language": "python",
   "name": "python37564bitwebscrapingvirtualenvbd5f766b9aaa4374a82e4e6f43b7b828"
  },
  "language_info": {
   "codemirror_mode": {
    "name": "ipython",
    "version": 3
   },
   "file_extension": ".py",
   "mimetype": "text/x-python",
   "name": "python",
   "nbconvert_exporter": "python",
   "pygments_lexer": "ipython3",
   "version": "3.7.5-final"
  }
 },
 "nbformat": 4,
 "nbformat_minor": 4
}